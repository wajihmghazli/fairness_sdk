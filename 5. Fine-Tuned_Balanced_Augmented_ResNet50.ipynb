{
 "cells": [
  {
   "cell_type": "markdown",
   "id": "d6c1ab81",
   "metadata": {},
   "source": [
    "# ÉVALUATION DE L’ÉQUITÉ DES MODÈLES D’APPRENTISSAGE PROFOND PRÉENTRAÎNÉS\n",
    "# V. Apprentissage de ResNet50 avec fine tuning, augmentation et balancement\n",
    "# Projet de 15 crédits de Wajih Mghazli"
   ]
  },
  {
   "cell_type": "code",
   "execution_count": 1,
   "id": "1061c82d",
   "metadata": {},
   "outputs": [
    {
     "name": "stderr",
     "output_type": "stream",
     "text": [
      "2023-05-03 18:54:00.623258: I tensorflow/core/platform/cpu_feature_guard.cc:193] This TensorFlow binary is optimized with oneAPI Deep Neural Network Library (oneDNN) to use the following CPU instructions in performance-critical operations:  AVX2 AVX512F AVX512_VNNI FMA\n",
      "To enable them in other operations, rebuild TensorFlow with the appropriate compiler flags.\n",
      "2023-05-03 18:54:00.863102: I tensorflow/core/util/port.cc:104] oneDNN custom operations are on. You may see slightly different numerical results due to floating-point round-off errors from different computation orders. To turn them off, set the environment variable `TF_ENABLE_ONEDNN_OPTS=0`.\n",
      "2023-05-03 18:54:04.446878: W tensorflow/compiler/xla/stream_executor/platform/default/dso_loader.cc:64] Could not load dynamic library 'libnvinfer.so.7'; dlerror: libnvinfer.so.7: cannot open shared object file: No such file or directory; LD_LIBRARY_PATH: :/export/livia/home/vision/Wmghazli/miniconda3/envs/tf/lib/:/export/livia/home/vision/Wmghazli/miniconda3/envs/tf/lib/\n",
      "2023-05-03 18:54:04.448016: W tensorflow/compiler/xla/stream_executor/platform/default/dso_loader.cc:64] Could not load dynamic library 'libnvinfer_plugin.so.7'; dlerror: libnvinfer_plugin.so.7: cannot open shared object file: No such file or directory; LD_LIBRARY_PATH: :/export/livia/home/vision/Wmghazli/miniconda3/envs/tf/lib/:/export/livia/home/vision/Wmghazli/miniconda3/envs/tf/lib/\n",
      "2023-05-03 18:54:04.448051: W tensorflow/compiler/tf2tensorrt/utils/py_utils.cc:38] TF-TRT Warning: Cannot dlopen some TensorRT libraries. If you would like to use Nvidia GPU with TensorRT, please make sure the missing libraries mentioned above are installed properly.\n"
     ]
    }
   ],
   "source": [
    "from fairness_sdk.data_preparation import RAFDB_subgroups_init, RAFDB_loader_api\n",
    "import matplotlib.pyplot as plt\n",
    "import numpy as np\n",
    "from tensorflow.keras.applications.resnet50 import ResNet50\n",
    "from tensorflow.keras.layers import Dense, GlobalAveragePooling2D\n",
    "from tensorflow.keras.models import Model\n",
    "from tensorflow.keras.callbacks import ModelCheckpoint, EarlyStopping\n",
    "from tensorflow.keras.optimizers import Adam\n",
    "from sklearn.model_selection import train_test_split\n",
    "from keras.preprocessing.image import ImageDataGenerator\n",
    "%matplotlib inline"
   ]
  },
  {
   "cell_type": "markdown",
   "id": "7bbf590c",
   "metadata": {},
   "source": [
    "## 1. Chargement des données de RAF-DB\n",
    "### 1. 1 Définition des constantes (chemin de la BD, dimensions, etc.)"
   ]
  },
  {
   "cell_type": "code",
   "execution_count": 2,
   "id": "de14a916",
   "metadata": {},
   "outputs": [],
   "source": [
    "FEATURES_PATH = 'dataset/RAF/basic/Image/aligned/'\n",
    "ANNOTATIONS_PATH = 'dataset/RAF/basic/Annotation/manual/Landmarks_5/'\n",
    "LABELS_PATH = 'dataset/RAF/basic/EmoLabel/list_patition_label.txt'\n",
    "img_rows, img_cols, img_channels, num_classes = 224, 224, 3, 7"
   ]
  },
  {
   "cell_type": "markdown",
   "id": "7995bac0",
   "metadata": {},
   "source": [
    "### 1. 2 Chargement des données"
   ]
  },
  {
   "cell_type": "code",
   "execution_count": 3,
   "id": "50efe3a6",
   "metadata": {},
   "outputs": [],
   "source": [
    "raf_db = RAFDB_loader_api(FEATURES_PATH, ANNOTATIONS_PATH, LABELS_PATH, True)"
   ]
  },
  {
   "cell_type": "markdown",
   "id": "da95810d",
   "metadata": {},
   "source": [
    "### 1. 3 Initialisation des sous-groupes"
   ]
  },
  {
   "cell_type": "code",
   "execution_count": 4,
   "id": "68ce26a4",
   "metadata": {},
   "outputs": [],
   "source": [
    "train_images_gender, train_labels_gender, train_images_race, train_labels_race = RAFDB_subgroups_init()"
   ]
  },
  {
   "cell_type": "markdown",
   "id": "bbfb4549",
   "metadata": {},
   "source": [
    "### 1. 4. 1 Séparation des sous-groupes (pour la visualisation)"
   ]
  },
  {
   "cell_type": "code",
   "execution_count": 5,
   "id": "cfffbf8f",
   "metadata": {},
   "outputs": [],
   "source": [
    "train_images_gender['male'] = np.array(raf_db['images_gender']['male'])\n",
    "train_labels_gender['male'] = np.array(raf_db['labels_gender']['male'])\n",
    "train_images_gender['female'] = np.array(raf_db['images_gender']['female'])\n",
    "train_labels_gender['female'] = np.array(raf_db['labels_gender']['female'])\n",
    "\n",
    "train_images_race['caucasian'] = np.array(raf_db['images_race']['caucasian'])\n",
    "train_labels_race['caucasian'] = np.array(raf_db['labels_race']['caucasian'])\n",
    "train_images_race['asian'] = np.array(raf_db['images_race']['asian'])\n",
    "train_labels_race['asian'] = np.array(raf_db['labels_race']['asian'])\n",
    "train_images_race['african'] = np.array(raf_db['images_race']['african'])\n",
    "train_labels_race['african'] = np.array(raf_db['labels_race']['african'])"
   ]
  },
  {
   "cell_type": "markdown",
   "id": "01e3b5ea",
   "metadata": {},
   "source": [
    "## 2. Pré-traitement des données\n",
    "### 2. 1 Balancement de données avec la méthode d'Over Sampling"
   ]
  },
  {
   "cell_type": "code",
   "execution_count": 6,
   "id": "a78186b4",
   "metadata": {},
   "outputs": [],
   "source": [
    "# Take the subgroup with the highest number of instances\n",
    "max_samples = max(\n",
    "    len(train_images_gender['male']),\n",
    "    len(train_images_gender['female']),\n",
    "    len(train_images_race['asian']),\n",
    "    len(train_images_race['caucasian']),\n",
    "    len(train_images_race['african'])\n",
    ")"
   ]
  },
  {
   "cell_type": "code",
   "execution_count": 7,
   "id": "6d513243",
   "metadata": {},
   "outputs": [],
   "source": [
    "# Over sampling gender subgroup\n",
    "for gender in ['male', 'female']:\n",
    "    if len(train_images_gender[gender]) > max_samples:\n",
    "        indices = np.random.choice(len(train_images_gender[gender]), max_samples, replace=False)\n",
    "        train_images_gender[gender] = train_images_gender[gender][indices]\n",
    "        train_labels_gender[gender] = train_labels_gender[gender][indices]\n",
    "    elif len(train_images_gender[gender]) < max_samples:\n",
    "        num_samples = max_samples - len(train_images_gender[gender])\n",
    "        indices = np.random.choice(len(train_images_gender[gender]), num_samples, replace=True)\n",
    "        train_images_gender[gender] = np.concatenate((train_images_gender[gender], train_images_gender[gender][indices]))\n",
    "        train_labels_gender[gender] = np.concatenate((train_labels_gender[gender], train_labels_gender[gender][indices]))"
   ]
  },
  {
   "cell_type": "code",
   "execution_count": 8,
   "id": "4fc1bc5a",
   "metadata": {},
   "outputs": [],
   "source": [
    "# Over sampling race subgroup\n",
    "for race in train_images_race.keys():\n",
    "    num_samples = len(train_images_race[race])\n",
    "    if num_samples < max_samples:\n",
    "        num_samples_to_add = max_samples - num_samples\n",
    "        random_indices = np.random.choice(num_samples, num_samples_to_add)\n",
    "        train_images_race[race] = np.concatenate((train_images_race[race], train_images_race[race][random_indices]), axis=0)\n",
    "        train_labels_race[race] = np.concatenate((train_labels_race[race], train_labels_race[race][random_indices]), axis=0)"
   ]
  },
  {
   "cell_type": "markdown",
   "id": "324bf9de",
   "metadata": {},
   "source": [
    "### 2. 2 Reconstruction de la base de données"
   ]
  },
  {
   "cell_type": "code",
   "execution_count": 11,
   "id": "ec15796a",
   "metadata": {},
   "outputs": [],
   "source": [
    "# Combine the subgroups into a single dataset\n",
    "train_images = np.concatenate((train_images_gender['male'], train_images_gender['female'], train_images_race['caucasian'], train_images_race['asian'], train_images_race['african']), axis=0)\n",
    "train_labels = np.concatenate((train_labels_gender['male'], train_labels_gender['female'], train_labels_race['caucasian'], train_labels_race['asian'], train_labels_race['african']), axis=0)"
   ]
  },
  {
   "cell_type": "markdown",
   "id": "369a1117",
   "metadata": {},
   "source": [
    "## 3. Augmentation de la base de données"
   ]
  },
  {
   "cell_type": "code",
   "execution_count": 12,
   "id": "482986c1",
   "metadata": {},
   "outputs": [],
   "source": [
    "# Split the data into training and validation sets\n",
    "train_images, val_images, train_labels, val_labels = train_test_split(train_images, train_labels, test_size=0.2, random_state=42)\n",
    "\n",
    "# Create an instance of the ImageDataGenerator class with the desired data augmentation parameters\n",
    "datagen = ImageDataGenerator(\n",
    "    rotation_range=20, # Rotate images randomly by 20 degrees\n",
    "    width_shift_range=0.1, # Shift images horizontally by up to 10% of the width\n",
    "    height_shift_range=0.1, # Shift images vertically by up to 10% of the height\n",
    "    shear_range=0.2, # Apply shearing transformation with a maximum shear of 20%\n",
    "    zoom_range=0.2, # Randomly zoom in and out by 20%\n",
    "    horizontal_flip=True, # Flip images horizontally\n",
    "    fill_mode='nearest' # Fill any empty pixels with the nearest value\n",
    ")\n",
    "\n",
    "# Fit the ImageDataGenerator to the training data\n",
    "datagen.fit(train_images)"
   ]
  },
  {
   "cell_type": "markdown",
   "id": "24bb808b",
   "metadata": {},
   "source": [
    "## 4. Apprentissage de ResNet50 avec fine tuning, augmentation et balancement"
   ]
  },
  {
   "cell_type": "code",
   "execution_count": 14,
   "id": "d49423d3",
   "metadata": {},
   "outputs": [
    {
     "name": "stderr",
     "output_type": "stream",
     "text": [
      "2023-05-03 18:58:59.426490: I tensorflow/core/platform/cpu_feature_guard.cc:193] This TensorFlow binary is optimized with oneAPI Deep Neural Network Library (oneDNN) to use the following CPU instructions in performance-critical operations:  AVX2 AVX512F AVX512_VNNI FMA\n",
      "To enable them in other operations, rebuild TensorFlow with the appropriate compiler flags.\n",
      "2023-05-03 18:59:02.075837: I tensorflow/core/common_runtime/gpu/gpu_device.cc:1613] Created device /job:localhost/replica:0/task:0/device:GPU:0 with 46705 MB memory:  -> device: 0, name: NVIDIA RTX A6000, pci bus id: 0000:17:00.0, compute capability: 8.6\n",
      "2023-05-03 18:59:02.078397: I tensorflow/core/common_runtime/gpu/gpu_device.cc:1613] Created device /job:localhost/replica:0/task:0/device:GPU:1 with 46705 MB memory:  -> device: 1, name: NVIDIA RTX A6000, pci bus id: 0000:31:00.0, compute capability: 8.6\n",
      "2023-05-03 18:59:02.080147: I tensorflow/core/common_runtime/gpu/gpu_device.cc:1613] Created device /job:localhost/replica:0/task:0/device:GPU:2 with 21846 MB memory:  -> device: 2, name: NVIDIA RTX A6000, pci bus id: 0000:b1:00.0, compute capability: 8.6\n",
      "2023-05-03 18:59:02.082046: I tensorflow/core/common_runtime/gpu/gpu_device.cc:1613] Created device /job:localhost/replica:0/task:0/device:GPU:3 with 21844 MB memory:  -> device: 3, name: NVIDIA RTX A6000, pci bus id: 0000:ca:00.0, compute capability: 8.6\n",
      "/export/livia/home/vision/Wmghazli/miniconda3/envs/tf/lib/python3.9/site-packages/keras/optimizers/optimizer_v2/adam.py:117: UserWarning: The `lr` argument is deprecated, use `learning_rate` instead.\n",
      "  super().__init__(name, **kwargs)\n"
     ]
    }
   ],
   "source": [
    "# Instantiate the model\n",
    "base_model = ResNet50(weights='imagenet', include_top=False, input_shape=(img_rows, img_cols, img_channels))\n",
    "\n",
    "# Add a global average pooling layer and a dense layer on top\n",
    "x = base_model.output\n",
    "x = GlobalAveragePooling2D()(x)\n",
    "x = Dense(1024, activation='relu')(x)\n",
    "predictions = Dense(num_classes, activation='softmax')(x)\n",
    "\n",
    "# Create the model\n",
    "model = Model(inputs=base_model.input, outputs=predictions)\n",
    "\n",
    "# Freeze the ResNet50 layers\n",
    "for layer in base_model.layers:\n",
    "    layer.trainable = False\n",
    "\n",
    "# Unfreeze the top 10 layers (fine tuning)\n",
    "for layer in model.layers[-10:]:\n",
    "    layer.trainable = True\n",
    "\n",
    "# Compile the model\n",
    "from keras.optimizers import Adam\n",
    "model.compile(optimizer=Adam(lr=0.0001), loss='categorical_crossentropy', metrics=['accuracy'])\n",
    "\n",
    "# Train the model with data augmentation\n",
    "batch_size = 32\n",
    "steps_per_epoch = train_images.shape[0] // batch_size\n",
    "validation_steps = val_images.shape[0] // batch_size\n",
    "\n",
    "train_generator = datagen.flow(train_images, train_labels, batch_size=batch_size, shuffle=True)\n",
    "val_generator = datagen.flow(val_images, val_labels, batch_size=batch_size, shuffle=False)"
   ]
  },
  {
   "cell_type": "code",
   "execution_count": 15,
   "id": "08c67051",
   "metadata": {},
   "outputs": [],
   "source": [
    "# Define checkpoint and early stopping callbacks\n",
    "checkpoint_dir = './checkpoints'\n",
    "checkpoint_file = checkpoint_dir + '/best_aumented_balanced_resnet50.h5'\n",
    "checkpoint = ModelCheckpoint(filepath=checkpoint_file, monitor='val_accuracy', save_best_only=True, mode='max')\n",
    "early_stop = EarlyStopping(monitor='val_loss', patience=5, mode='min')"
   ]
  },
  {
   "cell_type": "code",
   "execution_count": 16,
   "id": "1d79adfc",
   "metadata": {},
   "outputs": [
    {
     "name": "stdout",
     "output_type": "stream",
     "text": [
      "Epoch 1/300\n"
     ]
    },
    {
     "name": "stderr",
     "output_type": "stream",
     "text": [
      "2023-05-03 18:59:50.921337: I tensorflow/compiler/xla/stream_executor/cuda/cuda_dnn.cc:428] Loaded cuDNN version 8100\n",
      "2023-05-03 18:59:52.405149: I tensorflow/tsl/platform/default/subprocess.cc:304] Start cannot spawn child process: No such file or directory\n",
      "2023-05-03 18:59:54.810816: I tensorflow/compiler/xla/stream_executor/cuda/cuda_blas.cc:630] TensorFloat-32 will be used for the matrix multiplication. This will only be logged once.\n"
     ]
    },
    {
     "name": "stdout",
     "output_type": "stream",
     "text": [
      "1173/1173 [==============================] - 512s 426ms/step - loss: 1.0294 - accuracy: 0.6294 - val_loss: 0.8657 - val_accuracy: 0.6932\n",
      "Epoch 2/300\n",
      "1173/1173 [==============================] - 499s 425ms/step - loss: 0.7544 - accuracy: 0.7307 - val_loss: 0.7181 - val_accuracy: 0.7437\n",
      "Epoch 3/300\n",
      "1173/1173 [==============================] - 502s 428ms/step - loss: 0.6107 - accuracy: 0.7839 - val_loss: 0.6316 - val_accuracy: 0.7790\n",
      "Epoch 4/300\n",
      "1173/1173 [==============================] - 495s 422ms/step - loss: 0.5232 - accuracy: 0.8147 - val_loss: 0.5670 - val_accuracy: 0.7985\n",
      "Epoch 5/300\n",
      "1173/1173 [==============================] - 502s 428ms/step - loss: 0.4625 - accuracy: 0.8360 - val_loss: 0.5045 - val_accuracy: 0.8259\n",
      "Epoch 6/300\n",
      "1173/1173 [==============================] - 496s 422ms/step - loss: 0.4061 - accuracy: 0.8587 - val_loss: 0.4758 - val_accuracy: 0.8355\n",
      "Epoch 7/300\n",
      "1173/1173 [==============================] - 491s 418ms/step - loss: 0.3662 - accuracy: 0.8716 - val_loss: 0.4926 - val_accuracy: 0.8316\n",
      "Epoch 8/300\n",
      "1173/1173 [==============================] - 488s 416ms/step - loss: 0.3313 - accuracy: 0.8844 - val_loss: 0.4208 - val_accuracy: 0.8559\n",
      "Epoch 9/300\n",
      "1173/1173 [==============================] - 491s 419ms/step - loss: 0.3036 - accuracy: 0.8940 - val_loss: 0.3929 - val_accuracy: 0.8664\n",
      "Epoch 10/300\n",
      "1173/1173 [==============================] - 484s 413ms/step - loss: 0.2829 - accuracy: 0.9015 - val_loss: 0.3666 - val_accuracy: 0.8749\n",
      "Epoch 11/300\n",
      "1173/1173 [==============================] - 497s 424ms/step - loss: 0.2557 - accuracy: 0.9112 - val_loss: 0.3375 - val_accuracy: 0.8842\n",
      "Epoch 12/300\n",
      "1173/1173 [==============================] - 474s 404ms/step - loss: 0.2372 - accuracy: 0.9166 - val_loss: 0.3138 - val_accuracy: 0.8979\n",
      "Epoch 13/300\n",
      "1173/1173 [==============================] - 468s 399ms/step - loss: 0.2280 - accuracy: 0.9196 - val_loss: 0.3257 - val_accuracy: 0.8908\n",
      "Epoch 14/300\n",
      "1173/1173 [==============================] - 476s 406ms/step - loss: 0.2115 - accuracy: 0.9263 - val_loss: 0.3138 - val_accuracy: 0.8922\n",
      "Epoch 15/300\n",
      "1173/1173 [==============================] - 500s 426ms/step - loss: 0.2008 - accuracy: 0.9309 - val_loss: 0.3152 - val_accuracy: 0.8971\n",
      "Epoch 16/300\n",
      "1173/1173 [==============================] - 496s 423ms/step - loss: 0.1885 - accuracy: 0.9347 - val_loss: 0.2742 - val_accuracy: 0.9119\n",
      "Epoch 17/300\n",
      "1173/1173 [==============================] - 501s 427ms/step - loss: 0.1790 - accuracy: 0.9391 - val_loss: 0.3622 - val_accuracy: 0.8750\n",
      "Epoch 18/300\n",
      "1173/1173 [==============================] - 501s 427ms/step - loss: 0.1700 - accuracy: 0.9405 - val_loss: 0.3132 - val_accuracy: 0.9003\n",
      "Epoch 19/300\n",
      "1173/1173 [==============================] - 496s 423ms/step - loss: 0.1559 - accuracy: 0.9441 - val_loss: 0.3034 - val_accuracy: 0.9039\n",
      "Epoch 20/300\n",
      "1173/1173 [==============================] - 497s 424ms/step - loss: 0.1585 - accuracy: 0.9461 - val_loss: 0.2369 - val_accuracy: 0.9249\n",
      "Epoch 21/300\n",
      "1173/1173 [==============================] - 502s 428ms/step - loss: 0.1441 - accuracy: 0.9506 - val_loss: 0.2588 - val_accuracy: 0.9194\n",
      "Epoch 22/300\n",
      "1173/1173 [==============================] - 499s 425ms/step - loss: 0.1397 - accuracy: 0.9521 - val_loss: 0.2999 - val_accuracy: 0.9081\n",
      "Epoch 23/300\n",
      "1173/1173 [==============================] - 496s 423ms/step - loss: 0.1378 - accuracy: 0.9519 - val_loss: 0.2391 - val_accuracy: 0.9250\n",
      "Epoch 24/300\n",
      "1173/1173 [==============================] - 505s 430ms/step - loss: 0.1302 - accuracy: 0.9543 - val_loss: 0.2175 - val_accuracy: 0.9304\n",
      "Epoch 25/300\n",
      "1173/1173 [==============================] - 499s 426ms/step - loss: 0.1259 - accuracy: 0.9556 - val_loss: 0.2293 - val_accuracy: 0.9256\n",
      "Epoch 26/300\n",
      "1173/1173 [==============================] - 490s 418ms/step - loss: 0.1176 - accuracy: 0.9596 - val_loss: 0.2204 - val_accuracy: 0.9341\n",
      "Epoch 27/300\n",
      "1173/1173 [==============================] - 481s 410ms/step - loss: 0.1172 - accuracy: 0.9594 - val_loss: 0.1962 - val_accuracy: 0.9422\n",
      "Epoch 28/300\n",
      "1173/1173 [==============================] - 490s 418ms/step - loss: 0.1095 - accuracy: 0.9617 - val_loss: 0.2824 - val_accuracy: 0.9158\n",
      "Epoch 29/300\n",
      "1173/1173 [==============================] - 496s 423ms/step - loss: 0.1119 - accuracy: 0.9614 - val_loss: 0.2015 - val_accuracy: 0.9394\n",
      "Epoch 30/300\n",
      "1173/1173 [==============================] - 502s 428ms/step - loss: 0.1076 - accuracy: 0.9625 - val_loss: 0.2088 - val_accuracy: 0.9395\n",
      "Epoch 31/300\n",
      "1173/1173 [==============================] - 501s 427ms/step - loss: 0.1023 - accuracy: 0.9648 - val_loss: 0.2711 - val_accuracy: 0.9206\n",
      "Epoch 32/300\n",
      "1173/1173 [==============================] - 490s 418ms/step - loss: 0.0980 - accuracy: 0.9665 - val_loss: 0.1873 - val_accuracy: 0.9435\n",
      "Epoch 33/300\n",
      "1173/1173 [==============================] - 483s 412ms/step - loss: 0.0903 - accuracy: 0.9685 - val_loss: 0.2039 - val_accuracy: 0.9405\n",
      "Epoch 34/300\n",
      "1173/1173 [==============================] - 431s 367ms/step - loss: 0.0972 - accuracy: 0.9656 - val_loss: 0.2058 - val_accuracy: 0.9354\n",
      "Epoch 35/300\n",
      "1173/1173 [==============================] - 466s 397ms/step - loss: 0.0915 - accuracy: 0.9686 - val_loss: 0.1978 - val_accuracy: 0.9424\n",
      "Epoch 36/300\n",
      "1173/1173 [==============================] - 445s 379ms/step - loss: 0.0896 - accuracy: 0.9685 - val_loss: 0.2066 - val_accuracy: 0.9385\n",
      "Epoch 37/300\n",
      "1173/1173 [==============================] - 449s 382ms/step - loss: 0.0852 - accuracy: 0.9703 - val_loss: 0.1560 - val_accuracy: 0.9535\n",
      "Epoch 38/300\n",
      "1173/1173 [==============================] - 451s 384ms/step - loss: 0.0800 - accuracy: 0.9724 - val_loss: 0.1721 - val_accuracy: 0.9471\n",
      "Epoch 39/300\n",
      "1173/1173 [==============================] - 449s 383ms/step - loss: 0.0843 - accuracy: 0.9711 - val_loss: 0.1639 - val_accuracy: 0.9531\n",
      "Epoch 40/300\n",
      "1173/1173 [==============================] - 452s 385ms/step - loss: 0.0808 - accuracy: 0.9714 - val_loss: 0.1635 - val_accuracy: 0.9521\n",
      "Epoch 41/300\n",
      "1173/1173 [==============================] - 454s 387ms/step - loss: 0.0787 - accuracy: 0.9726 - val_loss: 0.1798 - val_accuracy: 0.9485\n",
      "Epoch 42/300\n",
      "1173/1173 [==============================] - 431s 368ms/step - loss: 0.0771 - accuracy: 0.9734 - val_loss: 0.2004 - val_accuracy: 0.9440\n"
     ]
    }
   ],
   "source": [
    "history = model.fit(train_generator, steps_per_epoch=steps_per_epoch, epochs=300, validation_data=val_generator, validation_steps=validation_steps, callbacks=[checkpoint, early_stop], verbose=1)"
   ]
  },
  {
   "cell_type": "code",
   "execution_count": 17,
   "id": "99e7991a",
   "metadata": {},
   "outputs": [
    {
     "data": {
      "image/png": "[encoded data removed]",
      "text/plain": [
       "<Figure size 640x480 with 1 Axes>"
      ]
     },
     "metadata": {},
     "output_type": "display_data"
    },
    {
     "data": {
      "image/png": "[encoded data removed]",
      "text/plain": [
       "<Figure size 640x480 with 1 Axes>"
      ]
     },
     "metadata": {},
     "output_type": "display_data"
    }
   ],
   "source": [
    "# Plot the accuracy for each epoch\n",
    "plt.plot(history.history['accuracy'])\n",
    "plt.plot(history.history['val_accuracy'])\n",
    "plt.title('Model accuracy')\n",
    "plt.xlabel('Epoch')\n",
    "plt.ylabel('Accuracy')\n",
    "plt.legend(['Train', 'Validation'], loc='upper left')\n",
    "plt.show()\n",
    "\n",
    "# Plot the loss for each epoch\n",
    "plt.plot(history.history['loss'])\n",
    "plt.plot(history.history['val_loss'])\n",
    "plt.title('Model loss')\n",
    "plt.xlabel('Epoch')\n",
    "plt.ylabel('Loss')\n",
    "plt.legend(['Train', 'Validation'], loc='upper left')\n",
    "plt.show()"
   ]
  }
 ],
 "metadata": {
  "kernelspec": {
   "display_name": "Python 3",
   "language": "python",
   "name": "python3"
  },
  "language_info": {
   "codemirror_mode": {
    "name": "ipython",
    "version": 3
   },
   "file_extension": ".py",
   "mimetype": "text/x-python",
   "name": "python",
   "nbconvert_exporter": "python",
   "pygments_lexer": "ipython3",
   "version": "3.7.4"
  }
 },
 "nbformat": 4,
 "nbformat_minor": 5
}
