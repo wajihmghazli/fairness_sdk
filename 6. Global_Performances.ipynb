{
 "cells": [
  {
   "cell_type": "markdown",
   "id": "0fca7dae",
   "metadata": {},
   "source": [
    "# ÉVALUATION DE L’ÉQUITÉ DES MODÈLES D’APPRENTISSAGE PROFOND PRÉENTRAÎNÉS\n",
    "# VII. Évaluation des modèles de ResNet50\n",
    "# Projet de 15 crédits de Wajih Mghazli"
   ]
  },
  {
   "cell_type": "code",
   "execution_count": 9,
   "id": "6fb176dc",
   "metadata": {},
   "outputs": [],
   "source": [
    "from fairness_sdk.data_preparation import RAFDB_loader_api\n",
    "import numpy as np\n",
    "from tensorflow import keras\n",
    "import matplotlib.pyplot as plt\n",
    "%matplotlib inline"
   ]
  },
  {
   "cell_type": "markdown",
   "id": "7cc2f749",
   "metadata": {},
   "source": [
    "## 1. Chargement des données de RAF-DB\n",
    "### 1. 1 Définition des constantes (chemin de la BD, dimensions, etc.)# I. Data preprocessing"
   ]
  },
  {
   "cell_type": "code",
   "execution_count": 2,
   "id": "cac50435",
   "metadata": {},
   "outputs": [],
   "source": [
    "FEATURES_PATH = 'dataset/RAF/basic/Image/aligned/'\n",
    "ANNOTATIONS_PATH = 'dataset/RAF/basic/Annotation/manual/Landmarks_5/'\n",
    "LABELS_PATH = 'dataset/RAF/basic/EmoLabel/list_patition_label.txt'\n",
    "img_rows, img_cols, img_channels, num_classes = 224, 224, 3, 7"
   ]
  },
  {
   "cell_type": "markdown",
   "id": "1fd2863e",
   "metadata": {},
   "source": [
    "### 1. 2 Chargement des données de test"
   ]
  },
  {
   "cell_type": "code",
   "execution_count": 3,
   "id": "16ac627e",
   "metadata": {},
   "outputs": [],
   "source": [
    "data = RAFDB_loader_api(FEATURES_PATH, ANNOTATIONS_PATH, LABELS_PATH, False)"
   ]
  },
  {
   "cell_type": "code",
   "execution_count": 7,
   "id": "356347ad",
   "metadata": {},
   "outputs": [],
   "source": [
    "# Combine the subgroups into a single dataset\n",
    "test_images = np.concatenate((data['images_gender']['male'], data['images_gender']['female'], data['images_race']['caucasian'], data['images_race']['asian'], data['images_race']['african']), axis=0)\n",
    "test_labels = np.concatenate((data['labels_gender']['male'], data['labels_gender']['female'], data['labels_race']['caucasian'], data['labels_race']['asian'], data['labels_race']['african']), axis=0)"
   ]
  },
  {
   "cell_type": "markdown",
   "id": "16fcbe3b",
   "metadata": {},
   "source": [
    "## 3. Chargement des variantes de ResNet50"
   ]
  },
  {
   "cell_type": "code",
   "execution_count": 10,
   "id": "48561bf5",
   "metadata": {},
   "outputs": [
    {
     "name": "stderr",
     "output_type": "stream",
     "text": [
      "2023-05-31 13:25:43.826515: I tensorflow/core/platform/cpu_feature_guard.cc:193] This TensorFlow binary is optimized with oneAPI Deep Neural Network Library (oneDNN) to use the following CPU instructions in performance-critical operations:  AVX2 AVX512F AVX512_VNNI FMA\n",
      "To enable them in other operations, rebuild TensorFlow with the appropriate compiler flags.\n",
      "2023-05-31 13:25:47.395462: I tensorflow/core/common_runtime/gpu/gpu_device.cc:1613] Created device /job:localhost/replica:0/task:0/device:GPU:0 with 36390 MB memory:  -> device: 0, name: NVIDIA RTX A6000, pci bus id: 0000:17:00.0, compute capability: 8.6\n",
      "2023-05-31 13:25:47.397122: I tensorflow/core/common_runtime/gpu/gpu_device.cc:1613] Created device /job:localhost/replica:0/task:0/device:GPU:1 with 12080 MB memory:  -> device: 1, name: NVIDIA RTX A6000, pci bus id: 0000:31:00.0, compute capability: 8.6\n",
      "2023-05-31 13:25:47.398704: I tensorflow/core/common_runtime/gpu/gpu_device.cc:1613] Created device /job:localhost/replica:0/task:0/device:GPU:2 with 21207 MB memory:  -> device: 2, name: NVIDIA RTX A6000, pci bus id: 0000:b1:00.0, compute capability: 8.6\n",
      "2023-05-31 13:25:47.401004: I tensorflow/core/common_runtime/gpu/gpu_device.cc:1613] Created device /job:localhost/replica:0/task:0/device:GPU:3 with 46705 MB memory:  -> device: 3, name: NVIDIA RTX A6000, pci bus id: 0000:ca:00.0, compute capability: 8.6\n"
     ]
    }
   ],
   "source": [
    "vanilla_resnet50 = keras.models.load_model('checkpoints/best_vanilla_resnet50.h5')\n",
    "fine_tuned_resnet50 = keras.models.load_model('checkpoints/best_aumented_resnet50.h5')\n",
    "fine_tuned_augmented_resnet50 = keras.models.load_model('checkpoints/best_fine_tuned_resnet50.h5')\n",
    "fine_tuned_augmented_balanced_resnet50 = keras.models.load_model('checkpoints/best_aumented_balanced_resnet50.h5')"
   ]
  },
  {
   "cell_type": "code",
   "execution_count": 11,
   "id": "ffd69ee4",
   "metadata": {},
   "outputs": [],
   "source": [
    "models = {\n",
    "            'vanilla_resnet50': vanilla_resnet50,\n",
    "            'fine_tuned_resnet50': fine_tuned_resnet50,\n",
    "            'fine_tuned_augmented_resnet50': fine_tuned_augmented_resnet50,\n",
    "            'fine_tuned_augmented_balanced_resnet50': fine_tuned_augmented_balanced_resnet50\n",
    "         }"
   ]
  },
  {
   "cell_type": "markdown",
   "id": "ba3fa663",
   "metadata": {},
   "source": [
    "## 4. Test des modèles sur l'ensemble de la base de test"
   ]
  },
  {
   "cell_type": "code",
   "execution_count": 1,
   "id": "823b45dc",
   "metadata": {},
   "outputs": [],
   "source": [
    "# Initialize accuracy dict (for each model)\n",
    "accs = {}"
   ]
  },
  {
   "cell_type": "code",
   "execution_count": 15,
   "id": "c4fdacda",
   "metadata": {},
   "outputs": [
    {
     "name": "stderr",
     "output_type": "stream",
     "text": [
      "2023-05-31 13:29:09.230867: I tensorflow/compiler/xla/stream_executor/cuda/cuda_dnn.cc:428] Loaded cuDNN version 8100\n",
      "2023-05-31 13:29:10.572638: I tensorflow/tsl/platform/default/subprocess.cc:304] Start cannot spawn child process: No such file or directory\n",
      "2023-05-31 13:29:11.465601: I tensorflow/compiler/xla/stream_executor/cuda/cuda_blas.cc:630] TensorFloat-32 will be used for the matrix multiplication. This will only be logged once.\n"
     ]
    }
   ],
   "source": [
    "for model_name, model_ in models.items():\n",
    "    test_loss, test_acc = model_.evaluate(test_images, test_labels, verbose=0)\n",
    "    accs[model_name] = test_acc"
   ]
  },
  {
   "cell_type": "code",
   "execution_count": 2,
   "id": "2ed74127",
   "metadata": {},
   "outputs": [],
   "source": [
    "### 4. Printing accuracy of the models accross all the test set"
   ]
  },
  {
   "cell_type": "code",
   "execution_count": 16,
   "id": "5892d1dd",
   "metadata": {},
   "outputs": [
    {
     "data": {
      "text/plain": [
       "{'vanilla_resnet50': 0.6232073307037354,\n",
       " 'fine_tuned_resnet50': 0.6756845116615295,\n",
       " 'fine_tuned_augmented_resnet50': 0.6701434254646301,\n",
       " 'fine_tuned_augmented_balanced_resnet50': 0.6776401400566101}"
      ]
     },
     "execution_count": 16,
     "metadata": {},
     "output_type": "execute_result"
    }
   ],
   "source": [
    "accs"
   ]
  },
  {
   "cell_type": "markdown",
   "id": "f80dfb18",
   "metadata": {},
   "source": [
    "## 5. Visualisation des performances (exactitude) des modèles"
   ]
  },
  {
   "cell_type": "code",
   "execution_count": 5,
   "id": "f2fa2e0b",
   "metadata": {},
   "outputs": [
    {
     "data": {
      "image/png": "[encoded data removed]",
      "text/plain": [
       "<Figure size 640x480 with 1 Axes>"
      ]
     },
     "metadata": {},
     "output_type": "display_data"
    }
   ],
   "source": [
    "# Define the colors for each bar\n",
    "colors = ['red', 'green', 'blue', 'orange']\n",
    "\n",
    "# Extract the model names and accuracy values\n",
    "model_names = list(accs.keys())\n",
    "accuracy_values = list(accs.values())\n",
    "\n",
    "# Plot the bar plot\n",
    "plt.bar(model_names, accuracy_values, color=colors)\n",
    "\n",
    "# Set labels and title\n",
    "plt.xlabel('Models')\n",
    "plt.ylabel('Accuracy')\n",
    "plt.title('Accuracy Comparison')\n",
    "\n",
    "# Show the plot\n",
    "plt.show()"
   ]
  }
 ],
 "metadata": {
  "kernelspec": {
   "display_name": "Python 3",
   "language": "python",
   "name": "python3"
  },
  "language_info": {
   "codemirror_mode": {
    "name": "ipython",
    "version": 3
   },
   "file_extension": ".py",
   "mimetype": "text/x-python",
   "name": "python",
   "nbconvert_exporter": "python",
   "pygments_lexer": "ipython3",
   "version": "3.7.4"
  }
 },
 "nbformat": 4,
 "nbformat_minor": 5
}
